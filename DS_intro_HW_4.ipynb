{
 "cells": [
  {
   "cell_type": "code",
   "execution_count": 4,
   "id": "c51ceb67",
   "metadata": {},
   "outputs": [],
   "source": [
    "#Daniel_Ben_Harush\n",
    "#id 316152792"
   ]
  },
  {
   "cell_type": "code",
   "execution_count": 12,
   "id": "6d86c542",
   "metadata": {},
   "outputs": [],
   "source": [
    "import urllib.parse\n",
    "import requests\n",
    "import json\n",
    "#import geocoding\n",
    "\n",
    "api_key = 'Your_api_key'\n",
    "parms = dict()\n",
    "parms['origins'] = 'Jerusalem'\n",
    "parms['key'] = api_key\n",
    "d = {}\n",
    "\n",
    "dest = open(\"C:/Users/Daniel Ben Harush/OneDrive - Ariel University/limudim/שנה ג/סמסטר ב/מבוא לידע ונתונים/dests.txt\")\n",
    "for city in dest:\n",
    "    city = city.strip()\n",
    "    parms['destinations'] = city\n",
    "    distance = requests.get('https://maps.googleapis.com/maps/api/distancematrix/json?' + urllib.parse.urlencode(parms)).json()#[\"rows\"][0][\"elements\"][0][\"distance\"][\"text\"]\n",
    "    latlong = (requests.get('https://maps.googleapis.com/maps/api/geocode/json?address=%s&key=%s' % (city,api_key))).json()\n",
    "    (dist, time, long, lat) = (distance[\"rows\"][0][\"elements\"][0][\"distance\"][\"text\"], int(distance[\"rows\"][0][\"elements\"][0][\"duration\"][\"value\"]/60),latlong['results'][0]['geometry']['location']['lng'],latlong['results'][0]['geometry']['location']['lat'])\n",
    "    d[city] = (dist, time, long, lat)"
   ]
  },
  {
   "cell_type": "code",
   "execution_count": 13,
   "id": "ac2defc1",
   "metadata": {},
   "outputs": [
    {
     "name": "stdout",
     "output_type": "stream",
     "text": [
      "Istanbul :\n",
      "Distance:  1,809 km ; Arrival time: 1242 minutes ; Longitude:  28.9783589 ; Latitude:  41.0082376\n",
      "Amsterdam :\n",
      "Distance:  4,528 km ; Arrival time: 2853 minutes ; Longitude:  4.9041389 ; Latitude:  52.3675734\n",
      "Valletta :\n",
      "Distance:  3,783 km ; Arrival time: 3029 minutes ; Longitude:  14.5145528 ; Latitude:  35.8989085\n",
      "Basel :\n",
      "Distance:  4,091 km ; Arrival time: 2622 minutes ; Longitude:  7.5885761 ; Latitude:  47.5595986\n",
      "Doha :\n",
      "Distance:  2,104 km ; Arrival time: 1311 minutes ; Longitude:  51.53103979999999 ; Latitude:  25.2854473\n"
     ]
    }
   ],
   "source": [
    "for keys,values in d.items():\n",
    "    print(keys, \":\")\n",
    "    print(\"Distance: \", values[0], \"; Arrival time:\", values[1], \"minutes ; Longitude: \", values[2], \"; Latitude: \", values[3])"
   ]
  },
  {
   "cell_type": "code",
   "execution_count": 14,
   "id": "146867b3",
   "metadata": {},
   "outputs": [
    {
     "name": "stdout",
     "output_type": "stream",
     "text": [
      "['Amsterdam', 'Basel', 'Valletta']\n"
     ]
    }
   ],
   "source": [
    "print(sorted(d,key=lambda k: d[k][0],reverse=True)[0:3])"
   ]
  },
  {
   "cell_type": "code",
   "execution_count": null,
   "id": "4278d990",
   "metadata": {},
   "outputs": [],
   "source": []
  },
  {
   "cell_type": "code",
   "execution_count": null,
   "id": "92c29b22",
   "metadata": {},
   "outputs": [],
   "source": []
  }
 ],
 "metadata": {
  "kernelspec": {
   "display_name": "Python 3 (ipykernel)",
   "language": "python",
   "name": "python3"
  },
  "language_info": {
   "codemirror_mode": {
    "name": "ipython",
    "version": 3
   },
   "file_extension": ".py",
   "mimetype": "text/x-python",
   "name": "python",
   "nbconvert_exporter": "python",
   "pygments_lexer": "ipython3",
   "version": "3.9.7"
  }
 },
 "nbformat": 4,
 "nbformat_minor": 5
}
